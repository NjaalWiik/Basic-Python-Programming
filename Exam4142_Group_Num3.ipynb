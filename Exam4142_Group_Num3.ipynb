{
 "cells": [
  {
   "cell_type": "markdown",
   "metadata": {},
   "source": [
    "# Exam GRA 4142"
   ]
  },
  {
   "cell_type": "markdown",
   "metadata": {},
   "source": [
    "### Add group members here:\n",
    "\n",
    "ID 1: 0965276\n",
    "\n",
    "ID 2: 0961392\n",
    "\n",
    "ID 3: 0957770\n",
    "    "
   ]
  },
  {
   "cell_type": "markdown",
   "metadata": {},
   "source": [
    "# Instructions\n",
    "\n",
    "The exam consists of three parts and eleven problems. To make it more readable the exam is divided in several small questions. The answers should not be more than a few lines of coding (of course there may be more than one solution method). \n",
    "\n",
    "Please write your code and execute each line in the notebook. You may add comments to your code if neccessary. (Make sure you don't print out long dataframes. Be concise. )\n",
    "\n",
    "You can work in groups of up to three students. Please rename this python file as `Exam4142_Group_Num#.ipynb` where you should replace `#` by the number of students in your group. Please, also write in the exam the ID number for each student in the group. \n"
   ]
  },
  {
   "cell_type": "markdown",
   "metadata": {},
   "source": [
    "# Part I. "
   ]
  },
  {
   "cell_type": "markdown",
   "metadata": {},
   "source": [
    "### Problem 1.  (5 points)\n",
    "Take the following Python code that stores a string:\n",
    "\n",
    "    my_str = 'X-DSPAM-Confidence:0.8475'\n",
    "\n",
    "Use `find` and string slicing to extract the portion of the string after the colon character and then convert the extracted string into a floating point number. Please print a line of text as follows:\n",
    "\n",
    "    I find a number, 0.8475, in the string.\n"
   ]
  },
  {
   "cell_type": "code",
   "execution_count": 1,
   "metadata": {},
   "outputs": [
    {
     "name": "stdout",
     "output_type": "stream",
     "text": [
      "I find a number, 0.8475, in the string.\n"
     ]
    }
   ],
   "source": [
    "# Problem 1\n",
    "\n",
    "my_str = 'X-DSPAM-Confidence:0.8475'\n",
    "\n",
    "# Finding the collon\n",
    "collon = my_str.find(':')\n",
    "\n",
    "# Extracting relevant part of the string and converting it into a float\n",
    "nums = float(my_str[collon + 1:])\n",
    "\n",
    "# Printing out the string \n",
    "print('I find a number, %s, in the string.' % nums)\n",
    "\n"
   ]
  },
  {
   "cell_type": "markdown",
   "metadata": {},
   "source": [
    "### Problem 2. (5 points)\n",
    "\n",
    "Consider the following two strings:\n",
    "\n",
    "    s1 = \"spam\"\n",
    "    s2 = \"ni!\"\n",
    "    \n",
    "Write a Python code, that perform string operations on `s1` and `s2`, and produces the following outcome:\n",
    " \n",
    "\n",
    "a. \"NI\"\n",
    "\n",
    "b. \"ni!spamni!\"\n",
    "\n",
    "c. \"Spam Ni! Spam Ni! Spam Ni!\" \n",
    "\n",
    "d. \"maps\"\n",
    "\n",
    "e. [\"sp\",\"m\"]\n",
    "\n",
    "f. \"spm\"\n"
   ]
  },
  {
   "cell_type": "code",
   "execution_count": 2,
   "metadata": {},
   "outputs": [],
   "source": [
    "s1 = \"spam\"\n",
    "s2 = \"ni!\""
   ]
  },
  {
   "cell_type": "code",
   "execution_count": 3,
   "metadata": {},
   "outputs": [
    {
     "data": {
      "text/plain": [
       "'NI'"
      ]
     },
     "execution_count": 3,
     "metadata": {},
     "output_type": "execute_result"
    }
   ],
   "source": [
    "# a. \"NI\"\n",
    "\n",
    "a = s2[0:2].upper()\n",
    "a"
   ]
  },
  {
   "cell_type": "code",
   "execution_count": 4,
   "metadata": {},
   "outputs": [
    {
     "data": {
      "text/plain": [
       "'ni!spamni!'"
      ]
     },
     "execution_count": 4,
     "metadata": {},
     "output_type": "execute_result"
    }
   ],
   "source": [
    "# b. \"ni!spamni!\"\n",
    "\n",
    "b = s2 + s1 + s2\n",
    "b"
   ]
  },
  {
   "cell_type": "code",
   "execution_count": 5,
   "metadata": {},
   "outputs": [
    {
     "data": {
      "text/plain": [
       "'Spam Ni! Spam Ni! Spam Ni!'"
      ]
     },
     "execution_count": 5,
     "metadata": {},
     "output_type": "execute_result"
    }
   ],
   "source": [
    "# c. \"Spam Ni! Spam Ni! Spam Ni!\"\n",
    "\n",
    "c = ' '.join(((s1.title() + ' ' + s2.title() + ' ') * 3).split())\n",
    "c"
   ]
  },
  {
   "cell_type": "code",
   "execution_count": 6,
   "metadata": {},
   "outputs": [
    {
     "data": {
      "text/plain": [
       "'maps'"
      ]
     },
     "execution_count": 6,
     "metadata": {},
     "output_type": "execute_result"
    }
   ],
   "source": [
    "# d. \"maps\"\n",
    "\n",
    "d = s1[::-1]\n",
    "d"
   ]
  },
  {
   "cell_type": "code",
   "execution_count": 7,
   "metadata": {},
   "outputs": [
    {
     "data": {
      "text/plain": [
       "['sp', 'm']"
      ]
     },
     "execution_count": 7,
     "metadata": {},
     "output_type": "execute_result"
    }
   ],
   "source": [
    "# e. [\"sp\",\"m\"]\n",
    "\n",
    "e = [s1[0:2] , s1[-1]]\n",
    "e"
   ]
  },
  {
   "cell_type": "code",
   "execution_count": 8,
   "metadata": {},
   "outputs": [
    {
     "data": {
      "text/plain": [
       "'spm'"
      ]
     },
     "execution_count": 8,
     "metadata": {},
     "output_type": "execute_result"
    }
   ],
   "source": [
    "# f. \"spm\"\n",
    "\n",
    "f = s1[0:2] + s1[-1]\n",
    "f"
   ]
  },
  {
   "cell_type": "markdown",
   "metadata": {},
   "source": [
    "### Problem 3. (5 points)\n",
    "A professor gives 5-point quizzes that are graded on the scale 5-A, 4-B, 3-C, 2-D, 1- F, 0-F. Write a program that accepts a quiz score as an input and prints out the corresponding grade. For example: if the point-score is 4, the code should give 'B' as answer."
   ]
  },
  {
   "cell_type": "code",
   "execution_count": 9,
   "metadata": {},
   "outputs": [
    {
     "name": "stdout",
     "output_type": "stream",
     "text": [
      "A\n"
     ]
    }
   ],
   "source": [
    "## Problem 3\n",
    "\n",
    "score = input('Please enter your score: ')\n",
    "\n",
    "try:\n",
    "    score = int(score)\n",
    "    if score == 5:\n",
    "        print('A')\n",
    "    elif score == 4:\n",
    "        print('B')\n",
    "    elif score == 3:\n",
    "        print('C')\n",
    "    elif score == 2:\n",
    "        print('D')\n",
    "    elif score == 1:\n",
    "        print('F')\n",
    "    elif score == 0:\n",
    "        print('F')   \n",
    "    else:\n",
    "        print('Please enter a score from 1 - 5')\n",
    "          \n",
    "except ValueError:\n",
    "    print('Please enter a number betweent 1 - 5.')\n",
    "\n"
   ]
  },
  {
   "cell_type": "markdown",
   "metadata": {},
   "source": [
    "### Problem 4. (5 points)\n",
    "The body mass index (BMI) is calculated as a person’s weight (in kilograms), divided by the square of the person’s height (in metres). A BMI in the range 19–25, inclusive, is considered healthy. Write a program that calculates a person’s BMI and prints a message telling whether they are above, within, or below the healthy range.\n",
    "\n"
   ]
  },
  {
   "cell_type": "code",
   "execution_count": 10,
   "metadata": {},
   "outputs": [
    {
     "name": "stdout",
     "output_type": "stream",
     "text": [
      "Your BMI is 25.49\n",
      "You are above the healthy range.\n"
     ]
    }
   ],
   "source": [
    "# Problem 4\n",
    "\n",
    "weight = input('Please enter your weight in kg: ')\n",
    "height = input('Please enter your height in cm: ')\n",
    "\n",
    "try:\n",
    "    weight = float(weight)\n",
    "    height_in_meters = float(height) * 0.01\n",
    "    \n",
    "    BMI = weight / height_in_meters ** 2\n",
    "    \n",
    "    print('Your BMI is', round(BMI,2))\n",
    "\n",
    "    if BMI > 25:\n",
    "        print('You are above the healthy range.')\n",
    "        \n",
    "    elif 19 <= BMI <= 25:\n",
    "        print('You are within the healthy range.')\n",
    "        \n",
    "    elif BMI < 19:\n",
    "        print('You are below the healthy range.')\n",
    "    \n",
    "except ValueError:\n",
    "    print('Please enter a valid number.')"
   ]
  },
  {
   "cell_type": "markdown",
   "metadata": {},
   "source": [
    "### Problem 5. (8 points)\n",
    "Initialize a list containing the following elements: 4, 3.1415, 1.0, 'Hello', and 'World'. Then, do the following:\n",
    "\n",
    "a. Delete 1.0 assuming you know the position on the list? What if you didn’t know its position? \n",
    "\n",
    "b. Append the elements 1.5, 4, 'Hello' to the existing list, to get an extended list as follows:\n",
    "\n",
    "    [4,3.1415,1.0,'Hello','World',1.5, 4, 'Hello']\n",
    "\n",
    "c. Arrange the list in reverse order.\n",
    "\n",
    "d. Count the occurrence of 'Hello' in the extended list."
   ]
  },
  {
   "cell_type": "code",
   "execution_count": 11,
   "metadata": {},
   "outputs": [],
   "source": [
    "# Problem 5\n",
    "\n",
    "main_list = [4, 3.1315, 1.0, 'Hello', 'World']\n"
   ]
  },
  {
   "cell_type": "code",
   "execution_count": 12,
   "metadata": {},
   "outputs": [
    {
     "data": {
      "text/plain": [
       "[4, 3.1315, 'Hello', 'World']"
      ]
     },
     "execution_count": 12,
     "metadata": {},
     "output_type": "execute_result"
    }
   ],
   "source": [
    "# a. Deleting 1.0 assuming that I know the position on the list.\n",
    "\n",
    "a_list = main_list.copy()\n",
    "del a_list[2]\n",
    "a_list\n"
   ]
  },
  {
   "cell_type": "code",
   "execution_count": 13,
   "metadata": {},
   "outputs": [
    {
     "data": {
      "text/plain": [
       "[4, 3.1315, 'Hello', 'World']"
      ]
     },
     "execution_count": 13,
     "metadata": {},
     "output_type": "execute_result"
    }
   ],
   "source": [
    "# a. Deleting 1.0 assuming that I dont know its position. \n",
    "\n",
    "a2_list = [4, 3.1315, 1.0, 'Hello', 'World']\n",
    "a2_list.remove(1.0)\n",
    "a2_list\n"
   ]
  },
  {
   "cell_type": "code",
   "execution_count": 14,
   "metadata": {},
   "outputs": [
    {
     "data": {
      "text/plain": [
       "[4, 3.1315, 1.0, 'Hello', 'World', 1.5, 4, 'Hello']"
      ]
     },
     "execution_count": 14,
     "metadata": {},
     "output_type": "execute_result"
    }
   ],
   "source": [
    "# b. Adding multiple elements to a list\n",
    "\n",
    "b_list = main_list\n",
    "b_list.extend((1.5,4,\"Hello\"))\n",
    "b_list"
   ]
  },
  {
   "cell_type": "code",
   "execution_count": 15,
   "metadata": {},
   "outputs": [
    {
     "data": {
      "text/plain": [
       "['Hello', 4, 1.5, 'World', 'Hello', 1.0, 3.1315, 4]"
      ]
     },
     "execution_count": 15,
     "metadata": {},
     "output_type": "execute_result"
    }
   ],
   "source": [
    "# c. Arrangeing the list in reverse order.\n",
    "\n",
    "c_list = main_list[::-1]\n",
    "c_list\n",
    "\n"
   ]
  },
  {
   "cell_type": "code",
   "execution_count": 16,
   "metadata": {},
   "outputs": [
    {
     "name": "stdout",
     "output_type": "stream",
     "text": [
      "2\n"
     ]
    }
   ],
   "source": [
    "# d. Counting the occurrence of 'Hello' in the extended list\n",
    "\n",
    "d_list = b_list\n",
    "hello_count = 0\n",
    "\n",
    "for word in d_list:\n",
    "    if word == 'Hello':\n",
    "        hello_count += 1\n",
    "    \n",
    "print(hello_count)\n"
   ]
  },
  {
   "cell_type": "markdown",
   "metadata": {},
   "source": [
    "### Problem 6. (6 points)\n",
    "Ask the user to enter 5 test scores with numerical value between 0 and 100 (integers). Write a program to do the following after all the scores have been entered:\n",
    "\n",
    "a. Print out the highest and lowest scores.\n",
    "\n",
    "b. Print out the average of the scores.\n",
    "\n",
    "c. Print out the second largest score.\n"
   ]
  },
  {
   "cell_type": "code",
   "execution_count": 17,
   "metadata": {},
   "outputs": [
    {
     "name": "stdout",
     "output_type": "stream",
     "text": [
      "Highest score: 5\n",
      "Lowest score: 1\n",
      "Average score: 3.0\n",
      "Second largest score: 4\n"
     ]
    }
   ],
   "source": [
    "# Problem 6\n",
    "\n",
    "score_list = []\n",
    "test_scores = 0\n",
    "total = 0\n",
    "\n",
    "while test_scores < 5:\n",
    "\n",
    "    score = int(input('Enter test score: '))\n",
    "    score_list.append(score)\n",
    "    total = total + score\n",
    "    test_scores += 1\n",
    "    \n",
    "print('Highest score:', max(score_list))\n",
    "print('Lowest score:', min(score_list))\n",
    "print('Average score:', total / 5)\n",
    "\n",
    "# Sorting list from highest to lowest value to find the second largest value.\n",
    "score_list.sort(reverse = True)\n",
    "print('Second largest score:', score_list[1] )\n",
    "    \n",
    "\n"
   ]
  },
  {
   "cell_type": "markdown",
   "metadata": {},
   "source": [
    "### Problem 7. (6 points)\n",
    "\n",
    "Consider the following dictionary:\n",
    "\n",
    "    commodity = {\n",
    "        'oil' : 501,\n",
    "        'copper' : ['upper grade', 'lower grade'],\n",
    "        'soybean' : ['asia','south america', 'north america']\n",
    "    }\n",
    "Perform the following operations:\n",
    "\n",
    "a. Add a key to commodity called 'natural gas'.\n",
    "\n",
    "b. Set the value of 'natural gas' to be a list consisting of the strings 'H1', 'H2', and 'H3'.\n",
    "\n",
    "c. Sort the items in the list stored under the 'soybean' key in alphabetical order (Make sure the new ordering is updated in the dictionary \"commodity\"). \n",
    "\n",
    "d. Remove ('upper grade') from the list of items stored under the 'copper' key.\n",
    "\n",
    "e. Add the number 50 to the number stored under the 'oil' key (to get 551)."
   ]
  },
  {
   "cell_type": "code",
   "execution_count": 18,
   "metadata": {},
   "outputs": [],
   "source": [
    "# Problem 7\n",
    "\n",
    "commodity = {\n",
    "    'oil' : 501,\n",
    "    'copper' : ['upper grade', 'lower grade'],\n",
    "    'soybean' : ['asia','south america', 'north america']\n",
    "}"
   ]
  },
  {
   "cell_type": "code",
   "execution_count": 19,
   "metadata": {},
   "outputs": [
    {
     "data": {
      "text/plain": [
       "{'oil': 501,\n",
       " 'copper': ['upper grade', 'lower grade'],\n",
       " 'soybean': ['asia', 'south america', 'north america'],\n",
       " 'natural gas': ['H1', 'H2', 'H3']}"
      ]
     },
     "execution_count": 19,
     "metadata": {},
     "output_type": "execute_result"
    }
   ],
   "source": [
    "# a & b. Adding key natural gass and values h1, h2 and h3\n",
    "\n",
    "commodity.update( {'natural gas' : ['H1','H2','H3']} )\n",
    "commodity"
   ]
  },
  {
   "cell_type": "code",
   "execution_count": 20,
   "metadata": {},
   "outputs": [
    {
     "data": {
      "text/plain": [
       "{'oil': 501,\n",
       " 'copper': ['upper grade', 'lower grade'],\n",
       " 'soybean': ['asia', 'north america', 'south america'],\n",
       " 'natural gas': ['H1', 'H2', 'H3']}"
      ]
     },
     "execution_count": 20,
     "metadata": {},
     "output_type": "execute_result"
    }
   ],
   "source": [
    "# c. Sorting values in soybean to alphabetical order\n",
    "\n",
    "for x in commodity:\n",
    "    commodity['soybean'].sort()\n",
    "commodity"
   ]
  },
  {
   "cell_type": "code",
   "execution_count": 21,
   "metadata": {},
   "outputs": [
    {
     "data": {
      "text/plain": [
       "{'oil': 501,\n",
       " 'copper': ['lower grade'],\n",
       " 'soybean': ['asia', 'north america', 'south america'],\n",
       " 'natural gas': ['H1', 'H2', 'H3']}"
      ]
     },
     "execution_count": 21,
     "metadata": {},
     "output_type": "execute_result"
    }
   ],
   "source": [
    "# d. Removing 'upper grade' from the list\n",
    "\n",
    "del commodity['copper'][0:1]\n",
    "commodity"
   ]
  },
  {
   "cell_type": "code",
   "execution_count": 22,
   "metadata": {},
   "outputs": [
    {
     "data": {
      "text/plain": [
       "{'oil': 551,\n",
       " 'copper': ['lower grade'],\n",
       " 'soybean': ['asia', 'north america', 'south america'],\n",
       " 'natural gas': ['H1', 'H2', 'H3']}"
      ]
     },
     "execution_count": 22,
     "metadata": {},
     "output_type": "execute_result"
    }
   ],
   "source": [
    "# e. Adding value 50 to oil key\n",
    "\n",
    "commodity['oil'] += 50\n",
    "commodity"
   ]
  },
  {
   "cell_type": "markdown",
   "metadata": {},
   "source": [
    "### Problem 8. (10 points)\n",
    "\n",
    "Write a piece of code to print the lyrics of the song “Old MacDonald.”. Your program should print the lyrics for three different animals, similar to the example verse below. (Hint: iterate over (cow,moo), (duck,quack), (pig, oink) using dicts )\n",
    "\n",
    "    Old MacDonald had a farm, Ee-igh, Ee-igh, Oh! \n",
    "    And on that farm he had a cow, Ee-igh, Ee-igh, Oh! \n",
    "    With a moo, moo here and a moo, moo there. \n",
    "    Here a moo, there a moo, everywhere a moo, moo. \n",
    "    Old MacDonald had a farm, Ee-igh, Ee-igh, Oh!"
   ]
  },
  {
   "cell_type": "code",
   "execution_count": 23,
   "metadata": {},
   "outputs": [
    {
     "name": "stdout",
     "output_type": "stream",
     "text": [
      "Old MacDonald had a farm, Ee-igh, Ee-igh, Oh!\n",
      "And on that farm he had a cow, Ee-igh, Ee-igh, Oh!\n",
      "With a moo, moo here and a moo, moo there.\n",
      "Here a moo, there a moo, everywhere a moo, moo.\n",
      "Old MacDonald had a farm, Ee-igh, Ee-igh, Oh! \n",
      "\n",
      "Old MacDonald had a farm, Ee-igh, Ee-igh, Oh!\n",
      "And on that farm he had a duck, Ee-igh, Ee-igh, Oh!\n",
      "With a quack, quack here and a quack, quack there.\n",
      "Here a quack, there a quack, everywhere a quack, quack.\n",
      "Old MacDonald had a farm, Ee-igh, Ee-igh, Oh! \n",
      "\n",
      "Old MacDonald had a farm, Ee-igh, Ee-igh, Oh!\n",
      "And on that farm he had a pig, Ee-igh, Ee-igh, Oh!\n",
      "With a oink, oink here and a oink, oink there.\n",
      "Here a oink, there a oink, everywhere a oink, oink.\n",
      "Old MacDonald had a farm, Ee-igh, Ee-igh, Oh! \n",
      "\n"
     ]
    }
   ],
   "source": [
    "# Problem 8\n",
    "\n",
    "animals = {\n",
    "    'cow' : 'moo',\n",
    "    'duck':'quack',\n",
    "    'pig' : 'oink'\n",
    "}\n",
    "\n",
    "line1 = 'Old MacDonald had a farm, Ee-igh, Ee-igh, Oh!'\n",
    "line2 = 'And on that farm he had a %s, Ee-igh, Ee-igh, Oh!'\n",
    "line3 = 'With a %s, %s here and a %s, %s there.'\n",
    "line4 = 'Here a %s, there a %s, everywhere a %s, %s.'\n",
    "line5 = 'Old MacDonald had a farm, Ee-igh, Ee-igh, Oh!'\n",
    "\n",
    "\n",
    "for key in animals:\n",
    "    animal = key\n",
    "    sound = animals[key]\n",
    "    print(line1)\n",
    "    print(line2 % animal)\n",
    "    print(line3 % (sound, sound, sound, sound))\n",
    "    print(line4 % (sound, sound, sound, sound))\n",
    "    print(line5, '\\n')\n",
    "    \n",
    "    "
   ]
  },
  {
   "cell_type": "markdown",
   "metadata": {},
   "source": [
    "---\n",
    "# Part II. "
   ]
  },
  {
   "cell_type": "markdown",
   "metadata": {},
   "source": [
    "### Problem 9. (10 points)\n",
    "\n",
    "We know that money deposited in a bank account earns interest, and this interest accumulates as the years pass. The amount of money $Principle_{t}$ in each year $t$ follows the specification: \n",
    "\n",
    "$Principle_{t}=Principle_{t-1}*(1+interest)$\n",
    "\n",
    "where $interest$ denotes the annual percentage rate expressed as a decimal number. \n",
    "\n",
    "Now write an function to determine the future value of an investment. There are 3 inputs in the function: the amount of the investment, the annualized interest rate, and the number of years of the investment. \n",
    "\n",
    "a. Evaluate the function for the following parameters: interest=0.1, number of years=7, and initial principal = 2000.\n",
    "\n",
    "b. Evaluate the function for 5 values of the interest rate {.01,.03,.05,.08,.1} (assume that number of years=7, and initial principal = 2000)"
   ]
  },
  {
   "cell_type": "code",
   "execution_count": 24,
   "metadata": {},
   "outputs": [
    {
     "name": "stdout",
     "output_type": "stream",
     "text": [
      "With an investment of 2000 and an annual interest of 0.1 over 7 years, we have a FV of 3897.43\n"
     ]
    }
   ],
   "source": [
    "# a. Creating a function for FV.\n",
    "\n",
    "def FutureValue(principle, interest, years):\n",
    "    future_value  = principle*((1+(interest)) ** years)\n",
    "    print(\"With an investment of \" + str(principle) + \" and an annual interest of \" \n",
    "          + str(interest) + \" over \" + str(years) + \" years, we have a FV of \" + str(round(future_value,2)))\n",
    "\n",
    "#Testing the FV function.\n",
    "\n",
    "FutureValue(2000,0.1,7)\n",
    "\n",
    "# If we were interested in using the number for further calculation. We would use return instead if print statement."
   ]
  },
  {
   "cell_type": "code",
   "execution_count": 25,
   "metadata": {},
   "outputs": [
    {
     "name": "stdout",
     "output_type": "stream",
     "text": [
      "With an investment of 2000 and an annual interest of 0.03 over 7 years, we have a FV of 2459.75\n",
      "With an investment of 2000 and an annual interest of 0.1 over 7 years, we have a FV of 3897.43\n",
      "With an investment of 2000 and an annual interest of 0.08 over 7 years, we have a FV of 3427.65\n",
      "With an investment of 2000 and an annual interest of 0.05 over 7 years, we have a FV of 2814.2\n",
      "With an investment of 2000 and an annual interest of 0.01 over 7 years, we have a FV of 2144.27\n"
     ]
    }
   ],
   "source": [
    "# b. Calculation value for diffrent interest rates. \n",
    "\n",
    "principle = 2000\n",
    "interest = {0.01, 0.03,0.05,0.08,0.1}\n",
    "years = 7\n",
    "\n",
    "for i in interest:\n",
    "    FutureValue(principle,i,years)"
   ]
  },
  {
   "cell_type": "markdown",
   "metadata": {},
   "source": [
    "### Problem 10. (10 points)\n",
    "\n",
    "Write your own function called `my_corr` which will compute the correlation coefficient of two arrays. The sample correlation coefficient between arrays x and y is defined as\n",
    "\n",
    "$\\frac{\\sum_{i=1}^{n}\\left(x_{i}-\\bar{x}\\right)\\left(y_{i}-\\bar{y}\\right)}{\\sqrt{\\sum_{i=1}^{n}\\left(x_{i}-\\bar{x}\\right)^{2}\\sum_{i=1}^{n}\\left(y_{i}-\\bar{y}\\right)^{2}}}$\n",
    "\n",
    "where $x$ and $y$ are both (nx1) arrays, and i=1,2,3,...,n and $\\bar{x}$ and $\\bar{y}$ are the sample means of $x$ and $y$ respectively.\n",
    "\n",
    "\n",
    "Your function should take (nx1) arrays for x and y as inputs and compute the correlation as the output.\n",
    "\n",
    "You can check your function using numbers from the \"math is fun\" web site: https://www.mathsisfun.com/data/correlation.html\n",
    "\n"
   ]
  },
  {
   "cell_type": "code",
   "execution_count": 26,
   "metadata": {},
   "outputs": [],
   "source": [
    "# Problem 10. A function that calculates the corr coef. of two arrays.\n",
    "import numpy as np\n",
    "\n",
    "def my_corr(x,y):\n",
    "    x_mean = np.mean(x)\n",
    "    y_mean = np.mean(y)\n",
    "    x2 = sum(np.subtract(x, x_mean) **2)\n",
    "    y2 = sum(np.subtract(y, y_mean) **2)\n",
    "    x_b = sum(np.subtract(x,x_mean) * np.subtract(y,y_mean))\n",
    "    corr = x_b / ((x2 * y2) ** 0.5)\n",
    "    return corr"
   ]
  },
  {
   "cell_type": "code",
   "execution_count": 27,
   "metadata": {},
   "outputs": [
    {
     "data": {
      "text/plain": [
       "0.9629201051693121"
      ]
     },
     "execution_count": 27,
     "metadata": {},
     "output_type": "execute_result"
    }
   ],
   "source": [
    "x_test_array = ([14.2, 16.4, 11.9, 15.2, 18.5, 22.1, 19.4, 25.1, 23.4, 18.1, 22.6, 17.6])\n",
    "y_test_array = ([215, 325, 185, 322, 406, 522, 412, 614, 544, 421, 445, 408])\n",
    "\n",
    "my_corr(x_test_array,y_test_array)"
   ]
  },
  {
   "cell_type": "code",
   "execution_count": 28,
   "metadata": {
    "collapsed": true
   },
   "outputs": [
    {
     "data": {
      "text/plain": [
       "1.0"
      ]
     },
     "execution_count": 28,
     "metadata": {},
     "output_type": "execute_result"
    }
   ],
   "source": [
    "X = [1, 2, 3, 4, 5] \n",
    "Y = [2, 4, 6, 8, 10] \n",
    "\n",
    "my_corr(X,Y)"
   ]
  },
  {
   "cell_type": "markdown",
   "metadata": {},
   "source": [
    "---\n",
    "# Part III. House Prices\n",
    "\n",
    "### Problem 11. (30 points)\n",
    "\n"
   ]
  },
  {
   "cell_type": "markdown",
   "metadata": {},
   "source": [
    "a. Load the data `housing_price.csv`."
   ]
  },
  {
   "cell_type": "code",
   "execution_count": 5,
   "metadata": {},
   "outputs": [],
   "source": [
    "import pandas as pd"
   ]
  },
  {
   "cell_type": "code",
   "execution_count": 6,
   "metadata": {},
   "outputs": [
    {
     "name": "stdout",
     "output_type": "stream",
     "text": [
      "C:\\Users\\Njaal\\OneDrive\\Dokumenter\\Privat\\Njål J. Wiik\\Utdanning\\Handelshøyskolen BI\\MSc in Business Analysis\\Data Management and Python Programming\\Data\n"
     ]
    }
   ],
   "source": [
    "%cd \"C:\\Users\\Njaal\\OneDrive\\Dokumenter\\Privat\\Njål J. Wiik\\Utdanning\\Handelshøyskolen BI\\MSc in Business Analysis\\Data Management and Python Programming\\Data\""
   ]
  },
  {
   "cell_type": "code",
   "execution_count": 7,
   "metadata": {},
   "outputs": [],
   "source": [
    "house = pd.read_csv(\"housing_price.csv\")"
   ]
  },
  {
   "cell_type": "markdown",
   "metadata": {},
   "source": [
    "b. Select the following variables: `Rooms`, `Type`, `Price`, `Distance`, `Bathroom`, `Bedroom2`. Call the new dataframe \"df\"."
   ]
  },
  {
   "cell_type": "code",
   "execution_count": 8,
   "metadata": {},
   "outputs": [
    {
     "data": {
      "text/html": [
       "<div>\n",
       "<style scoped>\n",
       "    .dataframe tbody tr th:only-of-type {\n",
       "        vertical-align: middle;\n",
       "    }\n",
       "\n",
       "    .dataframe tbody tr th {\n",
       "        vertical-align: top;\n",
       "    }\n",
       "\n",
       "    .dataframe thead th {\n",
       "        text-align: right;\n",
       "    }\n",
       "</style>\n",
       "<table border=\"1\" class=\"dataframe\">\n",
       "  <thead>\n",
       "    <tr style=\"text-align: right;\">\n",
       "      <th></th>\n",
       "      <th>Rooms</th>\n",
       "      <th>Type</th>\n",
       "      <th>Price</th>\n",
       "      <th>Distance</th>\n",
       "      <th>Bathroom</th>\n",
       "      <th>Bedroom2</th>\n",
       "    </tr>\n",
       "  </thead>\n",
       "  <tbody>\n",
       "    <tr>\n",
       "      <th>0</th>\n",
       "      <td>2</td>\n",
       "      <td>h</td>\n",
       "      <td>1035.0</td>\n",
       "      <td>2.5</td>\n",
       "      <td>1.0</td>\n",
       "      <td>2.0</td>\n",
       "    </tr>\n",
       "    <tr>\n",
       "      <th>1</th>\n",
       "      <td>3</td>\n",
       "      <td>h</td>\n",
       "      <td>1465.0</td>\n",
       "      <td>2.5</td>\n",
       "      <td>2.0</td>\n",
       "      <td>3.0</td>\n",
       "    </tr>\n",
       "    <tr>\n",
       "      <th>2</th>\n",
       "      <td>4</td>\n",
       "      <td>h</td>\n",
       "      <td>1600.0</td>\n",
       "      <td>2.5</td>\n",
       "      <td>1.0</td>\n",
       "      <td>3.0</td>\n",
       "    </tr>\n",
       "    <tr>\n",
       "      <th>3</th>\n",
       "      <td>3</td>\n",
       "      <td>h</td>\n",
       "      <td>1876.0</td>\n",
       "      <td>2.5</td>\n",
       "      <td>2.0</td>\n",
       "      <td>4.0</td>\n",
       "    </tr>\n",
       "    <tr>\n",
       "      <th>4</th>\n",
       "      <td>2</td>\n",
       "      <td>h</td>\n",
       "      <td>1636.0</td>\n",
       "      <td>2.5</td>\n",
       "      <td>1.0</td>\n",
       "      <td>2.0</td>\n",
       "    </tr>\n",
       "  </tbody>\n",
       "</table>\n",
       "</div>"
      ],
      "text/plain": [
       "   Rooms Type   Price  Distance  Bathroom  Bedroom2\n",
       "0      2    h  1035.0       2.5       1.0       2.0\n",
       "1      3    h  1465.0       2.5       2.0       3.0\n",
       "2      4    h  1600.0       2.5       1.0       3.0\n",
       "3      3    h  1876.0       2.5       2.0       4.0\n",
       "4      2    h  1636.0       2.5       1.0       2.0"
      ]
     },
     "execution_count": 8,
     "metadata": {},
     "output_type": "execute_result"
    }
   ],
   "source": [
    "df = house[[\"Rooms\",\"Type\",\"Price\", \"Distance\", \"Bathroom\", \"Bedroom2\"]]\n",
    "df.head()"
   ]
  },
  {
   "cell_type": "markdown",
   "metadata": {},
   "source": [
    "c. Display a table of  descriptive statistics of all the variables with numeric values."
   ]
  },
  {
   "cell_type": "code",
   "execution_count": 9,
   "metadata": {},
   "outputs": [
    {
     "data": {
      "text/html": [
       "<div>\n",
       "<style scoped>\n",
       "    .dataframe tbody tr th:only-of-type {\n",
       "        vertical-align: middle;\n",
       "    }\n",
       "\n",
       "    .dataframe tbody tr th {\n",
       "        vertical-align: top;\n",
       "    }\n",
       "\n",
       "    .dataframe thead th {\n",
       "        text-align: right;\n",
       "    }\n",
       "</style>\n",
       "<table border=\"1\" class=\"dataframe\">\n",
       "  <thead>\n",
       "    <tr style=\"text-align: right;\">\n",
       "      <th></th>\n",
       "      <th>Rooms</th>\n",
       "      <th>Price</th>\n",
       "      <th>Distance</th>\n",
       "      <th>Postcode</th>\n",
       "      <th>Bedroom2</th>\n",
       "      <th>Bathroom</th>\n",
       "      <th>Car</th>\n",
       "      <th>Landsize</th>\n",
       "      <th>BuildingArea</th>\n",
       "      <th>YearBuilt</th>\n",
       "      <th>Lattitude</th>\n",
       "      <th>Longtitude</th>\n",
       "      <th>Propertycount</th>\n",
       "    </tr>\n",
       "  </thead>\n",
       "  <tbody>\n",
       "    <tr>\n",
       "      <th>count</th>\n",
       "      <td>7996.000000</td>\n",
       "      <td>7996.000000</td>\n",
       "      <td>7996.000000</td>\n",
       "      <td>7996.000000</td>\n",
       "      <td>7996.000000</td>\n",
       "      <td>7996.000000</td>\n",
       "      <td>7996.000000</td>\n",
       "      <td>7996.000000</td>\n",
       "      <td>7996.000000</td>\n",
       "      <td>7696.000000</td>\n",
       "      <td>7996.000000</td>\n",
       "      <td>7996.000000</td>\n",
       "      <td>7996.000000</td>\n",
       "    </tr>\n",
       "    <tr>\n",
       "      <th>mean</th>\n",
       "      <td>3.041396</td>\n",
       "      <td>1088.133535</td>\n",
       "      <td>10.683442</td>\n",
       "      <td>3107.972111</td>\n",
       "      <td>3.017884</td>\n",
       "      <td>1.626313</td>\n",
       "      <td>1.650325</td>\n",
       "      <td>516.656453</td>\n",
       "      <td>154.136111</td>\n",
       "      <td>1964.965567</td>\n",
       "      <td>-37.806411</td>\n",
       "      <td>144.991700</td>\n",
       "      <td>7436.095423</td>\n",
       "    </tr>\n",
       "    <tr>\n",
       "      <th>std</th>\n",
       "      <td>0.976734</td>\n",
       "      <td>680.791381</td>\n",
       "      <td>6.457401</td>\n",
       "      <td>102.341720</td>\n",
       "      <td>0.978214</td>\n",
       "      <td>0.728704</td>\n",
       "      <td>0.962220</td>\n",
       "      <td>1198.647058</td>\n",
       "      <td>511.755700</td>\n",
       "      <td>37.310265</td>\n",
       "      <td>0.085369</td>\n",
       "      <td>0.112492</td>\n",
       "      <td>4353.206580</td>\n",
       "    </tr>\n",
       "    <tr>\n",
       "      <th>min</th>\n",
       "      <td>1.000000</td>\n",
       "      <td>131.000000</td>\n",
       "      <td>0.000000</td>\n",
       "      <td>3000.000000</td>\n",
       "      <td>0.000000</td>\n",
       "      <td>1.000000</td>\n",
       "      <td>0.000000</td>\n",
       "      <td>0.000000</td>\n",
       "      <td>0.000000</td>\n",
       "      <td>1196.000000</td>\n",
       "      <td>-38.174360</td>\n",
       "      <td>144.423790</td>\n",
       "      <td>290.000000</td>\n",
       "    </tr>\n",
       "    <tr>\n",
       "      <th>25%</th>\n",
       "      <td>2.000000</td>\n",
       "      <td>637.750000</td>\n",
       "      <td>6.300000</td>\n",
       "      <td>3044.000000</td>\n",
       "      <td>2.000000</td>\n",
       "      <td>1.000000</td>\n",
       "      <td>1.000000</td>\n",
       "      <td>186.000000</td>\n",
       "      <td>96.000000</td>\n",
       "      <td>1940.000000</td>\n",
       "      <td>-37.857575</td>\n",
       "      <td>144.922900</td>\n",
       "      <td>4380.000000</td>\n",
       "    </tr>\n",
       "    <tr>\n",
       "      <th>50%</th>\n",
       "      <td>3.000000</td>\n",
       "      <td>897.250000</td>\n",
       "      <td>9.700000</td>\n",
       "      <td>3083.500000</td>\n",
       "      <td>3.000000</td>\n",
       "      <td>2.000000</td>\n",
       "      <td>2.000000</td>\n",
       "      <td>448.000000</td>\n",
       "      <td>129.000000</td>\n",
       "      <td>1970.000000</td>\n",
       "      <td>-37.800950</td>\n",
       "      <td>144.997895</td>\n",
       "      <td>6543.000000</td>\n",
       "    </tr>\n",
       "    <tr>\n",
       "      <th>75%</th>\n",
       "      <td>4.000000</td>\n",
       "      <td>1340.000000</td>\n",
       "      <td>13.600000</td>\n",
       "      <td>3149.000000</td>\n",
       "      <td>4.000000</td>\n",
       "      <td>2.000000</td>\n",
       "      <td>2.000000</td>\n",
       "      <td>650.000000</td>\n",
       "      <td>177.000000</td>\n",
       "      <td>2000.000000</td>\n",
       "      <td>-37.752800</td>\n",
       "      <td>145.060870</td>\n",
       "      <td>10331.000000</td>\n",
       "    </tr>\n",
       "    <tr>\n",
       "      <th>max</th>\n",
       "      <td>12.000000</td>\n",
       "      <td>9000.000000</td>\n",
       "      <td>48.100000</td>\n",
       "      <td>3977.000000</td>\n",
       "      <td>12.000000</td>\n",
       "      <td>9.000000</td>\n",
       "      <td>10.000000</td>\n",
       "      <td>44500.000000</td>\n",
       "      <td>44515.000000</td>\n",
       "      <td>2018.000000</td>\n",
       "      <td>-37.407200</td>\n",
       "      <td>145.526350</td>\n",
       "      <td>21650.000000</td>\n",
       "    </tr>\n",
       "  </tbody>\n",
       "</table>\n",
       "</div>"
      ],
      "text/plain": [
       "             Rooms        Price     Distance     Postcode     Bedroom2  \\\n",
       "count  7996.000000  7996.000000  7996.000000  7996.000000  7996.000000   \n",
       "mean      3.041396  1088.133535    10.683442  3107.972111     3.017884   \n",
       "std       0.976734   680.791381     6.457401   102.341720     0.978214   \n",
       "min       1.000000   131.000000     0.000000  3000.000000     0.000000   \n",
       "25%       2.000000   637.750000     6.300000  3044.000000     2.000000   \n",
       "50%       3.000000   897.250000     9.700000  3083.500000     3.000000   \n",
       "75%       4.000000  1340.000000    13.600000  3149.000000     4.000000   \n",
       "max      12.000000  9000.000000    48.100000  3977.000000    12.000000   \n",
       "\n",
       "          Bathroom          Car      Landsize  BuildingArea    YearBuilt  \\\n",
       "count  7996.000000  7996.000000   7996.000000   7996.000000  7696.000000   \n",
       "mean      1.626313     1.650325    516.656453    154.136111  1964.965567   \n",
       "std       0.728704     0.962220   1198.647058    511.755700    37.310265   \n",
       "min       1.000000     0.000000      0.000000      0.000000  1196.000000   \n",
       "25%       1.000000     1.000000    186.000000     96.000000  1940.000000   \n",
       "50%       2.000000     2.000000    448.000000    129.000000  1970.000000   \n",
       "75%       2.000000     2.000000    650.000000    177.000000  2000.000000   \n",
       "max       9.000000    10.000000  44500.000000  44515.000000  2018.000000   \n",
       "\n",
       "         Lattitude   Longtitude  Propertycount  \n",
       "count  7996.000000  7996.000000    7996.000000  \n",
       "mean    -37.806411   144.991700    7436.095423  \n",
       "std       0.085369     0.112492    4353.206580  \n",
       "min     -38.174360   144.423790     290.000000  \n",
       "25%     -37.857575   144.922900    4380.000000  \n",
       "50%     -37.800950   144.997895    6543.000000  \n",
       "75%     -37.752800   145.060870   10331.000000  \n",
       "max     -37.407200   145.526350   21650.000000  "
      ]
     },
     "execution_count": 9,
     "metadata": {},
     "output_type": "execute_result"
    }
   ],
   "source": [
    "# c1. Displaying descriptive statistics for numeric variables for the original dataset.\n",
    "\n",
    "house.describe()"
   ]
  },
  {
   "cell_type": "code",
   "execution_count": 10,
   "metadata": {},
   "outputs": [
    {
     "data": {
      "text/html": [
       "<div>\n",
       "<style scoped>\n",
       "    .dataframe tbody tr th:only-of-type {\n",
       "        vertical-align: middle;\n",
       "    }\n",
       "\n",
       "    .dataframe tbody tr th {\n",
       "        vertical-align: top;\n",
       "    }\n",
       "\n",
       "    .dataframe thead th {\n",
       "        text-align: right;\n",
       "    }\n",
       "</style>\n",
       "<table border=\"1\" class=\"dataframe\">\n",
       "  <thead>\n",
       "    <tr style=\"text-align: right;\">\n",
       "      <th></th>\n",
       "      <th>Rooms</th>\n",
       "      <th>Price</th>\n",
       "      <th>Distance</th>\n",
       "      <th>Bathroom</th>\n",
       "      <th>Bedroom2</th>\n",
       "    </tr>\n",
       "  </thead>\n",
       "  <tbody>\n",
       "    <tr>\n",
       "      <th>count</th>\n",
       "      <td>7996.000000</td>\n",
       "      <td>7996.000000</td>\n",
       "      <td>7996.000000</td>\n",
       "      <td>7996.000000</td>\n",
       "      <td>7996.000000</td>\n",
       "    </tr>\n",
       "    <tr>\n",
       "      <th>mean</th>\n",
       "      <td>3.041396</td>\n",
       "      <td>1088.133535</td>\n",
       "      <td>10.683442</td>\n",
       "      <td>1.626313</td>\n",
       "      <td>3.017884</td>\n",
       "    </tr>\n",
       "    <tr>\n",
       "      <th>std</th>\n",
       "      <td>0.976734</td>\n",
       "      <td>680.791381</td>\n",
       "      <td>6.457401</td>\n",
       "      <td>0.728704</td>\n",
       "      <td>0.978214</td>\n",
       "    </tr>\n",
       "    <tr>\n",
       "      <th>min</th>\n",
       "      <td>1.000000</td>\n",
       "      <td>131.000000</td>\n",
       "      <td>0.000000</td>\n",
       "      <td>1.000000</td>\n",
       "      <td>0.000000</td>\n",
       "    </tr>\n",
       "    <tr>\n",
       "      <th>25%</th>\n",
       "      <td>2.000000</td>\n",
       "      <td>637.750000</td>\n",
       "      <td>6.300000</td>\n",
       "      <td>1.000000</td>\n",
       "      <td>2.000000</td>\n",
       "    </tr>\n",
       "    <tr>\n",
       "      <th>50%</th>\n",
       "      <td>3.000000</td>\n",
       "      <td>897.250000</td>\n",
       "      <td>9.700000</td>\n",
       "      <td>2.000000</td>\n",
       "      <td>3.000000</td>\n",
       "    </tr>\n",
       "    <tr>\n",
       "      <th>75%</th>\n",
       "      <td>4.000000</td>\n",
       "      <td>1340.000000</td>\n",
       "      <td>13.600000</td>\n",
       "      <td>2.000000</td>\n",
       "      <td>4.000000</td>\n",
       "    </tr>\n",
       "    <tr>\n",
       "      <th>max</th>\n",
       "      <td>12.000000</td>\n",
       "      <td>9000.000000</td>\n",
       "      <td>48.100000</td>\n",
       "      <td>9.000000</td>\n",
       "      <td>12.000000</td>\n",
       "    </tr>\n",
       "  </tbody>\n",
       "</table>\n",
       "</div>"
      ],
      "text/plain": [
       "             Rooms        Price     Distance     Bathroom     Bedroom2\n",
       "count  7996.000000  7996.000000  7996.000000  7996.000000  7996.000000\n",
       "mean      3.041396  1088.133535    10.683442     1.626313     3.017884\n",
       "std       0.976734   680.791381     6.457401     0.728704     0.978214\n",
       "min       1.000000   131.000000     0.000000     1.000000     0.000000\n",
       "25%       2.000000   637.750000     6.300000     1.000000     2.000000\n",
       "50%       3.000000   897.250000     9.700000     2.000000     3.000000\n",
       "75%       4.000000  1340.000000    13.600000     2.000000     4.000000\n",
       "max      12.000000  9000.000000    48.100000     9.000000    12.000000"
      ]
     },
     "execution_count": 10,
     "metadata": {},
     "output_type": "execute_result"
    }
   ],
   "source": [
    "# c2. Displaying descriptive statistics for numeric variables for the new dataset.\n",
    "\n",
    "df.describe()"
   ]
  },
  {
   "cell_type": "markdown",
   "metadata": {},
   "source": [
    "d. Plot in a scatter figure the variable `Rooms` (number of rooms) in the x-axis against `Price` in the y-axis."
   ]
  },
  {
   "cell_type": "code",
   "execution_count": 11,
   "metadata": {},
   "outputs": [],
   "source": [
    "import matplotlib.pyplot as plt"
   ]
  },
  {
   "cell_type": "code",
   "execution_count": 12,
   "metadata": {
    "collapsed": true
   },
   "outputs": [
    {
     "data": {
      "image/png": "[encoded data removed]",
      "text/plain": [
       "<Figure size 576x396 with 1 Axes>"
      ]
     },
     "metadata": {},
     "output_type": "display_data"
    }
   ],
   "source": [
    "# d. Plotting a scatter figure with nbr of rooms on the x-axis and price on the y-axis.\n",
    "\n",
    "plt.style.use('seaborn')\n",
    "plt.scatter(df[\"Rooms\"],df[\"Price\"])\n",
    "plt.show()"
   ]
  },
  {
   "cell_type": "markdown",
   "metadata": {},
   "source": [
    "e. Create a graph with 4 subplots, 2 rows and 2 columns. In each subplot use an histogram to show the distribution of `Bathroom`, `Distance`, `Price`, `Rooms` separately. Please set the title for each subplot."
   ]
  },
  {
   "cell_type": "code",
   "execution_count": 13,
   "metadata": {},
   "outputs": [
    {
     "data": {
      "text/plain": [
       "Text(0,0.5,'Amount')"
      ]
     },
     "execution_count": 13,
     "metadata": {},
     "output_type": "execute_result"
    },
    {
     "data": {
      "image/png": "[encoded data removed]",
      "text/plain": [
       "<Figure size 1440x720 with 4 Axes>"
      ]
     },
     "metadata": {},
     "output_type": "display_data"
    }
   ],
   "source": [
    "#ax1 - ax4 is the plots\n",
    "fig, ((ax1,ax2),(ax3,ax4)) = plt.subplots(nrows=2, ncols=2,figsize=(20, 10))\n",
    "N=20\n",
    "\n",
    "ax1.hist(df[\"Bathroom\"],bins=11)\n",
    "ax1.set_title(\"Distribution bathrooms\")\n",
    "ax1.set_xlabel(\"Number of bathrooms\")\n",
    "ax1.set_ylabel(\"Amount\")\n",
    "\n",
    "ax2.hist(df[\"Distance\"],bins=N)\n",
    "ax2.set_title(\"Distribution of distance\")\n",
    "ax2.set_xlabel(\"Distance\")\n",
    "ax2.set_ylabel(\"Amount\")\n",
    "\n",
    "\n",
    "ax3.hist(df[\"Price\"],bins=N)\n",
    "ax3.set_title(\"Distribution Price\")\n",
    "ax3.set_xlabel(\"Price\")\n",
    "ax3.set_ylabel(\"Amount\")\n",
    "\n",
    "ax4.hist(df[\"Rooms\"])\n",
    "ax4.set_title(\"Distribution of rooms\")\n",
    "ax4.set_xlabel(\"Number of rooms\")\n",
    "ax4.set_ylabel(\"Amount\")"
   ]
  },
  {
   "cell_type": "markdown",
   "metadata": {},
   "source": [
    "f. Display a table with average values for the variables `Price` and `Rooms` for different types of house. "
   ]
  },
  {
   "cell_type": "code",
   "execution_count": 14,
   "metadata": {
    "collapsed": true
   },
   "outputs": [
    {
     "data": {
      "text/html": [
       "<div>\n",
       "<style scoped>\n",
       "    .dataframe tbody tr th:only-of-type {\n",
       "        vertical-align: middle;\n",
       "    }\n",
       "\n",
       "    .dataframe tbody tr th {\n",
       "        vertical-align: top;\n",
       "    }\n",
       "\n",
       "    .dataframe thead th {\n",
       "        text-align: right;\n",
       "    }\n",
       "</style>\n",
       "<table border=\"1\" class=\"dataframe\">\n",
       "  <thead>\n",
       "    <tr style=\"text-align: right;\">\n",
       "      <th></th>\n",
       "      <th>Price</th>\n",
       "      <th>Rooms</th>\n",
       "    </tr>\n",
       "    <tr>\n",
       "      <th>Type</th>\n",
       "      <th></th>\n",
       "      <th></th>\n",
       "    </tr>\n",
       "  </thead>\n",
       "  <tbody>\n",
       "    <tr>\n",
       "      <th>h</th>\n",
       "      <td>1248.927370</td>\n",
       "      <td>3.365777</td>\n",
       "    </tr>\n",
       "    <tr>\n",
       "      <th>t</th>\n",
       "      <td>909.644374</td>\n",
       "      <td>2.855742</td>\n",
       "    </tr>\n",
       "    <tr>\n",
       "      <th>u</th>\n",
       "      <td>592.663567</td>\n",
       "      <td>1.963522</td>\n",
       "    </tr>\n",
       "  </tbody>\n",
       "</table>\n",
       "</div>"
      ],
      "text/plain": [
       "            Price     Rooms\n",
       "Type                       \n",
       "h     1248.927370  3.365777\n",
       "t      909.644374  2.855742\n",
       "u      592.663567  1.963522"
      ]
     },
     "execution_count": 14,
     "metadata": {},
     "output_type": "execute_result"
    }
   ],
   "source": [
    "# f. displaying a table showing the mean of Price and Rooms based on the different house Types. \n",
    "\n",
    "avg_type = df.groupby(\"Type\")[[\"Price\",\"Rooms\"]].mean()\n",
    "avg_type"
   ]
  },
  {
   "cell_type": "markdown",
   "metadata": {},
   "source": [
    "g. Generate a variable for the logarithm of price and run a regression of log price on the number of rooms `Rooms` and a constant term. Please show in a table your estimates. "
   ]
  },
  {
   "cell_type": "code",
   "execution_count": 15,
   "metadata": {
    "collapsed": true
   },
   "outputs": [],
   "source": [
    "import statsmodels.api as sm\n",
    "import matplotlib.pyplot as plt\n",
    "import numpy as np"
   ]
  },
  {
   "cell_type": "code",
   "execution_count": 16,
   "metadata": {
    "collapsed": true
   },
   "outputs": [
    {
     "name": "stdout",
     "output_type": "stream",
     "text": [
      "                            OLS Regression Results                            \n",
      "==============================================================================\n",
      "Dep. Variable:               LogPrice   R-squared:                       0.311\n",
      "Model:                            OLS   Adj. R-squared:                  0.311\n",
      "Method:                 Least Squares   F-statistic:                     3614.\n",
      "Date:                Thu, 18 Oct 2018   Prob (F-statistic):               0.00\n",
      "Time:                        07:37:47   Log-Likelihood:                -4921.8\n",
      "No. Observations:                7996   AIC:                             9848.\n",
      "Df Residuals:                    7994   BIC:                             9862.\n",
      "Df Model:                           1                                         \n",
      "Covariance Type:            nonrobust                                         \n",
      "==============================================================================\n",
      "                 coef    std err          t      P>|t|      [0.025      0.975]\n",
      "------------------------------------------------------------------------------\n",
      "const          5.9019      0.016    360.291      0.000       5.870       5.934\n",
      "Rooms          0.3083      0.005     60.119      0.000       0.298       0.318\n",
      "==============================================================================\n",
      "Omnibus:                       76.329   Durbin-Watson:                   1.325\n",
      "Prob(Omnibus):                  0.000   Jarque-Bera (JB):               93.403\n",
      "Skew:                           0.166   Prob(JB):                     5.22e-21\n",
      "Kurtosis:                       3.412   Cond. No.                         11.4\n",
      "==============================================================================\n",
      "\n",
      "Warnings:\n",
      "[1] Standard Errors assume that the covariance matrix of the errors is correctly specified.\n"
     ]
    },
    {
     "name": "stderr",
     "output_type": "stream",
     "text": [
      "C:\\Users\\Njaal\\Anaconda3\\lib\\site-packages\\ipykernel_launcher.py:3: SettingWithCopyWarning: \n",
      "A value is trying to be set on a copy of a slice from a DataFrame.\n",
      "Try using .loc[row_indexer,col_indexer] = value instead\n",
      "\n",
      "See the caveats in the documentation: http://pandas.pydata.org/pandas-docs/stable/indexing.html#indexing-view-versus-copy\n",
      "  This is separate from the ipykernel package so we can avoid doing imports until\n"
     ]
    }
   ],
   "source": [
    "# g1. Generating a variable for the logarithm of price.\n",
    "\n",
    "df['LogPrice'] = np.log(df['Price'])\n",
    "\n",
    "\n",
    "#g2. Running a regression of log price on the number of rooms.\n",
    "\n",
    "y = df['LogPrice']\n",
    "X = df[['Rooms']]\n",
    "X = sm.add_constant(X)\n",
    "reg1 = sm.OLS(y, X, missing='drop')\n",
    "results = reg1.fit()\n",
    "print(results.summary())"
   ]
  },
  {
   "cell_type": "code",
   "execution_count": 17,
   "metadata": {
    "collapsed": true
   },
   "outputs": [
    {
     "data": {
      "text/plain": [
       "array([ 2,  3,  4,  1,  6,  5,  8,  7, 10, 12], dtype=int64)"
      ]
     },
     "execution_count": 17,
     "metadata": {},
     "output_type": "execute_result"
    }
   ],
   "source": [
    "df[\"Rooms\"].unique()"
   ]
  },
  {
   "cell_type": "code",
   "execution_count": 18,
   "metadata": {
    "collapsed": true
   },
   "outputs": [
    {
     "data": {
      "text/html": [
       "<div>\n",
       "<style scoped>\n",
       "    .dataframe tbody tr th:only-of-type {\n",
       "        vertical-align: middle;\n",
       "    }\n",
       "\n",
       "    .dataframe tbody tr th {\n",
       "        vertical-align: top;\n",
       "    }\n",
       "\n",
       "    .dataframe thead th {\n",
       "        text-align: right;\n",
       "    }\n",
       "</style>\n",
       "<table border=\"1\" class=\"dataframe\">\n",
       "  <thead>\n",
       "    <tr style=\"text-align: right;\">\n",
       "      <th></th>\n",
       "      <th>LogPrice</th>\n",
       "    </tr>\n",
       "    <tr>\n",
       "      <th>Nbr of rooms</th>\n",
       "      <th></th>\n",
       "    </tr>\n",
       "  </thead>\n",
       "  <tbody>\n",
       "    <tr>\n",
       "      <th>0</th>\n",
       "      <td>5.9019</td>\n",
       "    </tr>\n",
       "    <tr>\n",
       "      <th>1</th>\n",
       "      <td>6.2102</td>\n",
       "    </tr>\n",
       "    <tr>\n",
       "      <th>2</th>\n",
       "      <td>6.5185</td>\n",
       "    </tr>\n",
       "    <tr>\n",
       "      <th>3</th>\n",
       "      <td>6.8268</td>\n",
       "    </tr>\n",
       "    <tr>\n",
       "      <th>4</th>\n",
       "      <td>7.1351</td>\n",
       "    </tr>\n",
       "    <tr>\n",
       "      <th>5</th>\n",
       "      <td>7.4434</td>\n",
       "    </tr>\n",
       "    <tr>\n",
       "      <th>6</th>\n",
       "      <td>7.7517</td>\n",
       "    </tr>\n",
       "    <tr>\n",
       "      <th>7</th>\n",
       "      <td>8.0600</td>\n",
       "    </tr>\n",
       "    <tr>\n",
       "      <th>8</th>\n",
       "      <td>8.3683</td>\n",
       "    </tr>\n",
       "    <tr>\n",
       "      <th>9</th>\n",
       "      <td>8.6766</td>\n",
       "    </tr>\n",
       "    <tr>\n",
       "      <th>10</th>\n",
       "      <td>8.9849</td>\n",
       "    </tr>\n",
       "    <tr>\n",
       "      <th>11</th>\n",
       "      <td>9.2932</td>\n",
       "    </tr>\n",
       "    <tr>\n",
       "      <th>12</th>\n",
       "      <td>9.6015</td>\n",
       "    </tr>\n",
       "  </tbody>\n",
       "</table>\n",
       "</div>"
      ],
      "text/plain": [
       "              LogPrice\n",
       "Nbr of rooms          \n",
       "0               5.9019\n",
       "1               6.2102\n",
       "2               6.5185\n",
       "3               6.8268\n",
       "4               7.1351\n",
       "5               7.4434\n",
       "6               7.7517\n",
       "7               8.0600\n",
       "8               8.3683\n",
       "9               8.6766\n",
       "10              8.9849\n",
       "11              9.2932\n",
       "12              9.6015"
      ]
     },
     "execution_count": 18,
     "metadata": {},
     "output_type": "execute_result"
    }
   ],
   "source": [
    "# g3. Showing our estimates in a taple.\n",
    "\n",
    "Result = []\n",
    "for i in range(0,13):\n",
    "    Res = 5.9019 + 0.3083 * i\n",
    "    Result.append(Res)\n",
    "df_result = pd.DataFrame(Result, columns=['LogPrice'])\n",
    "df_result.index.name = 'Nbr of rooms'\n",
    "df_result"
   ]
  },
  {
   "cell_type": "code",
   "execution_count": 19,
   "metadata": {},
   "outputs": [
    {
     "data": {
      "image/png": "[encoded data removed]",
      "text/plain": [
       "<Figure size 576x396 with 1 Axes>"
      ]
     },
     "metadata": {},
     "output_type": "display_data"
    }
   ],
   "source": [
    "df_result.plot()\n",
    "plt.show()\n"
   ]
  },
  {
   "cell_type": "code",
   "execution_count": null,
   "metadata": {},
   "outputs": [],
   "source": []
  }
 ],
 "metadata": {
  "kernelspec": {
   "display_name": "Python 3",
   "language": "python",
   "name": "python3"
  },
  "language_info": {
   "codemirror_mode": {
    "name": "ipython",
    "version": 3
   },
   "file_extension": ".py",
   "mimetype": "text/x-python",
   "name": "python",
   "nbconvert_exporter": "python",
   "pygments_lexer": "ipython3",
   "version": "3.7.0"
  }
 },
 "nbformat": 4,
 "nbformat_minor": 2
}
